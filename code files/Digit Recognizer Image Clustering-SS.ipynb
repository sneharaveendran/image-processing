{
 "cells": [
  {
   "cell_type": "code",
   "execution_count": 1,
   "metadata": {},
   "outputs": [],
   "source": [
    "import os\n",
    "import numpy as np\n",
    "import cv2\n",
    "import matplotlib.pyplot as plt\n",
    "%matplotlib inline"
   ]
  },
  {
   "cell_type": "code",
   "execution_count": 2,
   "metadata": {},
   "outputs": [],
   "source": [
    "path =\"C:\\\\Users\\\\USER\\\\Documents\\\\IIM I IPBA\\\\Capstone\\\\Digitset Cl1\"\n",
    "ls_file = []\n",
    "for root, dirs, files in os.walk(path):\n",
    "    for file in files:\n",
    "        #print(os.path.join(root,file))\n",
    "        ls_file.append(os.path.join(root,file))"
   ]
  },
  {
   "cell_type": "code",
   "execution_count": 3,
   "metadata": {},
   "outputs": [
    {
     "data": {
      "text/plain": [
       "range(0, 160)"
      ]
     },
     "execution_count": 3,
     "metadata": {},
     "output_type": "execute_result"
    }
   ],
   "source": [
    "range(len(ls_file))"
   ]
  },
  {
   "cell_type": "code",
   "execution_count": 4,
   "metadata": {},
   "outputs": [],
   "source": [
    "os.chdir(\"C:\\\\Users\\\\USER\\\\Documents\\\\IIM I IPBA\\\\Capstone\\\\Digitset Cl1\")"
   ]
  },
  {
   "cell_type": "code",
   "execution_count": 5,
   "metadata": {},
   "outputs": [],
   "source": [
    "def get_image(path):\n",
    "    im=cv2.imread(path)\n",
    "    im=cv2.cvtColor(im,cv2.COLOR_BGR2GRAY)\n",
    "    i=im[0:75,:]\n",
    "    return i"
   ]
  },
  {
   "cell_type": "code",
   "execution_count": 6,
   "metadata": {},
   "outputs": [],
   "source": [
    "labels = []\n",
    "images = []"
   ]
  },
  {
   "cell_type": "code",
   "execution_count": 7,
   "metadata": {},
   "outputs": [
    {
     "name": "stdout",
     "output_type": "stream",
     "text": [
      "C:\\Users\\USER\\Documents\\IIM I IPBA\\Capstone\\Digitset Cl1\\aodP-trd-00014_D01_2021_06_09-10_23_41_PM.jpg\n",
      "C:\\Users\\USER\\Documents\\IIM I IPBA\\Capstone\\Digitset Cl1\\aodP-trd-00014_D01_2021_06_10-10_57_43_PM.jpg\n",
      "C:\\Users\\USER\\Documents\\IIM I IPBA\\Capstone\\Digitset Cl1\\aodP-trd-00014_D01_2021_06_13-12_42_27_PM.jpg\n",
      "C:\\Users\\USER\\Documents\\IIM I IPBA\\Capstone\\Digitset Cl1\\aodP-trd-00015_D01_2021_06_09-10_25_28_PM.jpg\n",
      "C:\\Users\\USER\\Documents\\IIM I IPBA\\Capstone\\Digitset Cl1\\aodP-trd-00015_D01_2021_06_10-10_59_29_PM.jpg\n",
      "C:\\Users\\USER\\Documents\\IIM I IPBA\\Capstone\\Digitset Cl1\\aodP-trd-00015_D01_2021_06_13-12_43_56_PM.jpg\n",
      "C:\\Users\\USER\\Documents\\IIM I IPBA\\Capstone\\Digitset Cl1\\aodP-trd-00018_D01_2021_06_09-10_30_54_PM.jpg\n",
      "C:\\Users\\USER\\Documents\\IIM I IPBA\\Capstone\\Digitset Cl1\\aodP-trd-00018_D01_2021_06_10-11_04_51_PM.jpg\n",
      "C:\\Users\\USER\\Documents\\IIM I IPBA\\Capstone\\Digitset Cl1\\aodP-trd-00018_D01_2021_06_13-12_48_27_PM.jpg\n",
      "C:\\Users\\USER\\Documents\\IIM I IPBA\\Capstone\\Digitset Cl1\\aodP-trd-00019_D01_2021_06_09-10_32_41_PM.jpg\n",
      "C:\\Users\\USER\\Documents\\IIM I IPBA\\Capstone\\Digitset Cl1\\aodP-trd-00019_D01_2021_06_10-11_06_37_PM.jpg\n",
      "C:\\Users\\USER\\Documents\\IIM I IPBA\\Capstone\\Digitset Cl1\\aodP-trd-00019_D01_2021_06_13-12_49_58_PM.jpg\n",
      "C:\\Users\\USER\\Documents\\IIM I IPBA\\Capstone\\Digitset Cl1\\aodP-trd-0001_D01_2021_06_09-10_21_52_PM.jpg\n",
      "C:\\Users\\USER\\Documents\\IIM I IPBA\\Capstone\\Digitset Cl1\\aodP-trd-0001_D01_2021_06_10-10_55_52_PM.jpg\n",
      "C:\\Users\\USER\\Documents\\IIM I IPBA\\Capstone\\Digitset Cl1\\aodP-trd-0001_D01_2021_06_11-03_13_31_PM.jpg\n",
      "C:\\Users\\USER\\Documents\\IIM I IPBA\\Capstone\\Digitset Cl1\\aodP-trd-0001_D01_2021_06_13-12_40_55_PM.jpg\n",
      "C:\\Users\\USER\\Documents\\IIM I IPBA\\Capstone\\Digitset Cl1\\aodP-trd-00029_D01_2021_06_09-10_38_23_PM.jpg\n",
      "C:\\Users\\USER\\Documents\\IIM I IPBA\\Capstone\\Digitset Cl1\\aodP-trd-00029_D01_2021_06_10-11_11_58_PM.jpg\n",
      "C:\\Users\\USER\\Documents\\IIM I IPBA\\Capstone\\Digitset Cl1\\aodP-trd-00029_D01_2021_06_13-12_54_28_PM.jpg\n",
      "C:\\Users\\USER\\Documents\\IIM I IPBA\\Capstone\\Digitset Cl1\\aodP-trd-0002_D01_2021_06_09-10_34_28_PM.jpg\n",
      "C:\\Users\\USER\\Documents\\IIM I IPBA\\Capstone\\Digitset Cl1\\aodP-trd-0002_D01_2021_06_10-11_08_23_PM.jpg\n",
      "C:\\Users\\USER\\Documents\\IIM I IPBA\\Capstone\\Digitset Cl1\\aodP-trd-0002_D01_2021_06_13-12_51_29_PM.jpg\n",
      "C:\\Users\\USER\\Documents\\IIM I IPBA\\Capstone\\Digitset Cl1\\aodP-trd-00030_D01_2021_06_09-10_42_12_PM.jpg\n",
      "C:\\Users\\USER\\Documents\\IIM I IPBA\\Capstone\\Digitset Cl1\\aodP-trd-00030_D01_2021_06_10-11_15_31_PM.jpg\n",
      "C:\\Users\\USER\\Documents\\IIM I IPBA\\Capstone\\Digitset Cl1\\aodP-trd-00030_D01_2021_06_13-12_57_26_PM.jpg\n",
      "C:\\Users\\USER\\Documents\\IIM I IPBA\\Capstone\\Digitset Cl1\\aodP-trd-0003_D01_2021_06_09-10_40_15_PM.jpg\n",
      "C:\\Users\\USER\\Documents\\IIM I IPBA\\Capstone\\Digitset Cl1\\aodP-trd-0003_D01_2021_06_10-11_13_44_PM.jpg\n",
      "C:\\Users\\USER\\Documents\\IIM I IPBA\\Capstone\\Digitset Cl1\\aodP-trd-0003_D01_2021_06_13-12_55_57_PM.jpg\n",
      "C:\\Users\\USER\\Documents\\IIM I IPBA\\Capstone\\Digitset Cl1\\aodP-trd-0005_D01_2021_06_09-10_46_05_PM.jpg\n",
      "C:\\Users\\USER\\Documents\\IIM I IPBA\\Capstone\\Digitset Cl1\\aodP-trd-0005_D01_2021_06_10-11_19_06_PM.jpg\n",
      "C:\\Users\\USER\\Documents\\IIM I IPBA\\Capstone\\Digitset Cl1\\aodP-trd-0005_D01_2021_06_13-01_00_25_PM.jpg\n",
      "C:\\Users\\USER\\Documents\\IIM I IPBA\\Capstone\\Digitset Cl1\\aodP-trd-0009_D01_2021_06_09-10_53_52_PM.jpg\n",
      "C:\\Users\\USER\\Documents\\IIM I IPBA\\Capstone\\Digitset Cl1\\aodP-trd-0009_D01_2021_06_10-11_26_12_PM.jpg\n",
      "C:\\Users\\USER\\Documents\\IIM I IPBA\\Capstone\\Digitset Cl1\\aodP-trd-0009_D01_2021_06_13-01_06_22_PM.jpg\n",
      "C:\\Users\\USER\\Documents\\IIM I IPBA\\Capstone\\Digitset Cl1\\aodP-trd-0010_D01_2021_06_10-11_28_00_PM.jpg\n",
      "C:\\Users\\USER\\Documents\\IIM I IPBA\\Capstone\\Digitset Cl1\\aodP-trd-0010_D01_2021_06_13-01_07_47_PM.jpg\n",
      "C:\\Users\\USER\\Documents\\IIM I IPBA\\Capstone\\Digitset Cl1\\aodP-trd-0013_D01_2021_06_09-11_01_31_PM.jpg\n",
      "C:\\Users\\USER\\Documents\\IIM I IPBA\\Capstone\\Digitset Cl1\\aodP-trd-0013_D01_2021_06_10-11_33_21_PM.jpg\n",
      "C:\\Users\\USER\\Documents\\IIM I IPBA\\Capstone\\Digitset Cl1\\aodP-trd-0013_D01_2021_06_13-01_12_00_PM.jpg\n",
      "C:\\Users\\USER\\Documents\\IIM I IPBA\\Capstone\\Digitset Cl1\\aodP-trd-0021_D01_2021_06_09-11_03_27_PM.jpg\n",
      "C:\\Users\\USER\\Documents\\IIM I IPBA\\Capstone\\Digitset Cl1\\aodP-trd-0021_D01_2021_06_10-11_35_07_PM.jpg\n",
      "C:\\Users\\USER\\Documents\\IIM I IPBA\\Capstone\\Digitset Cl1\\aodP-trd-0021_D01_2021_06_13-01_13_25_PM.jpg\n",
      "C:\\Users\\USER\\Documents\\IIM I IPBA\\Capstone\\Digitset Cl1\\aodP-trd-0022_D01_2021_06_09-11_05_31_PM.jpg\n",
      "C:\\Users\\USER\\Documents\\IIM I IPBA\\Capstone\\Digitset Cl1\\aodP-trd-0022_D01_2021_06_10-11_36_54_PM.jpg\n",
      "C:\\Users\\USER\\Documents\\IIM I IPBA\\Capstone\\Digitset Cl1\\aodP-trd-0022_D01_2021_06_13-01_14_50_PM.jpg\n",
      "C:\\Users\\USER\\Documents\\IIM I IPBA\\Capstone\\Digitset Cl1\\aodP-trd-0023_D01_2021_06_09-11_07_28_PM.jpg\n",
      "C:\\Users\\USER\\Documents\\IIM I IPBA\\Capstone\\Digitset Cl1\\aodP-trd-0027_D01_2021_06_09-11_15_47_PM.jpg\n",
      "C:\\Users\\USER\\Documents\\IIM I IPBA\\Capstone\\Digitset Cl1\\aodP-trd-0027_D01_2021_06_10-11_45_53_PM.jpg\n",
      "C:\\Users\\USER\\Documents\\IIM I IPBA\\Capstone\\Digitset Cl1\\aodP-trd-0027_D01_2021_06_13-01_21_55_PM.jpg\n",
      "C:\\Users\\USER\\Documents\\IIM I IPBA\\Capstone\\Digitset Cl1\\aodP-trd-0028_D01_2021_06_09-11_18_00_PM.jpg\n",
      "C:\\Users\\USER\\Documents\\IIM I IPBA\\Capstone\\Digitset Cl1\\aodP-trd-0028_D01_2021_06_10-11_47_40_PM.jpg\n",
      "C:\\Users\\USER\\Documents\\IIM I IPBA\\Capstone\\Digitset Cl1\\aodP-trd-0028_D01_2021_06_13-01_23_20_PM.jpg\n",
      "C:\\Users\\USER\\Documents\\IIM I IPBA\\Capstone\\Digitset Cl1\\aodP-trd-0037_D01_2021_06_09-11_37_16_PM.jpg\n",
      "C:\\Users\\USER\\Documents\\IIM I IPBA\\Capstone\\Digitset Cl1\\aodP-trd-0037_D01_2021_06_11-12_00_28_AM.jpg\n",
      "C:\\Users\\USER\\Documents\\IIM I IPBA\\Capstone\\Digitset Cl1\\aodP-trd-0037_D01_2021_06_13-01_33_36_PM.jpg\n",
      "C:\\Users\\USER\\Documents\\IIM I IPBA\\Capstone\\Digitset Cl1\\aodP-trd-0044_D01_2021_06_09-11_50_47_PM.jpg\n",
      "C:\\Users\\USER\\Documents\\IIM I IPBA\\Capstone\\Digitset Cl1\\aodP-trd-0044_D01_2021_06_11-12_13_39_AM.jpg\n",
      "C:\\Users\\USER\\Documents\\IIM I IPBA\\Capstone\\Digitset Cl1\\aodP-trd-0044_D01_2021_06_13-01_43_28_PM.jpg\n",
      "C:\\Users\\USER\\Documents\\IIM I IPBA\\Capstone\\Digitset Cl1\\aodP-trd-0045_D01_2021_06_09-11_52_40_PM.jpg\n",
      "C:\\Users\\USER\\Documents\\IIM I IPBA\\Capstone\\Digitset Cl1\\aodP-trd-0045_D01_2021_06_11-12_15_32_AM.jpg\n",
      "C:\\Users\\USER\\Documents\\IIM I IPBA\\Capstone\\Digitset Cl1\\aodP-trd-0045_D01_2021_06_13-01_44_51_PM.jpg\n",
      "C:\\Users\\USER\\Documents\\IIM I IPBA\\Capstone\\Digitset Cl1\\aodP-trd-0048_D01_2021_06_09-11_58_28_PM.jpg\n",
      "C:\\Users\\USER\\Documents\\IIM I IPBA\\Capstone\\Digitset Cl1\\aodP-trd-0048_D01_2021_06_11-12_21_10_AM.jpg\n",
      "C:\\Users\\USER\\Documents\\IIM I IPBA\\Capstone\\Digitset Cl1\\aodP-trd-0048_D01_2021_06_13-01_49_02_PM.jpg\n",
      "C:\\Users\\USER\\Documents\\IIM I IPBA\\Capstone\\Digitset Cl1\\aodP-trd-0050_D01_2021_06_10-12_02_07_AM.jpg\n",
      "C:\\Users\\USER\\Documents\\IIM I IPBA\\Capstone\\Digitset Cl1\\aodP-trd-0050_D01_2021_06_11-12_24_57_AM.jpg\n",
      "C:\\Users\\USER\\Documents\\IIM I IPBA\\Capstone\\Digitset Cl1\\aodP-trd-0050_D01_2021_06_13-01_51_51_PM.jpg\n",
      "C:\\Users\\USER\\Documents\\IIM I IPBA\\Capstone\\Digitset Cl1\\aodP-trd-0051_D01_2021_06_10-12_04_02_AM.jpg\n",
      "C:\\Users\\USER\\Documents\\IIM I IPBA\\Capstone\\Digitset Cl1\\aodP-trd-0051_D01_2021_06_11-12_26_51_AM.jpg\n",
      "C:\\Users\\USER\\Documents\\IIM I IPBA\\Capstone\\Digitset Cl1\\aodP-trd-0051_D01_2021_06_13-01_53_15_PM.jpg\n",
      "C:\\Users\\USER\\Documents\\IIM I IPBA\\Capstone\\Digitset Cl1\\aodP-trd-0052_D01_2021_06_10-12_06_05_AM.jpg\n",
      "C:\\Users\\USER\\Documents\\IIM I IPBA\\Capstone\\Digitset Cl1\\aodP-trd-0052_D01_2021_06_11-12_28_45_AM.jpg\n",
      "C:\\Users\\USER\\Documents\\IIM I IPBA\\Capstone\\Digitset Cl1\\aodP-trd-0052_D01_2021_06_13-01_54_40_PM.jpg\n",
      "C:\\Users\\USER\\Documents\\IIM I IPBA\\Capstone\\Digitset Cl1\\aodP-trd-0053_D01_2021_06_10-12_08_01_AM.jpg\n",
      "C:\\Users\\USER\\Documents\\IIM I IPBA\\Capstone\\Digitset Cl1\\aodP-trd-0053_D01_2021_06_11-12_30_39_AM.jpg\n",
      "C:\\Users\\USER\\Documents\\IIM I IPBA\\Capstone\\Digitset Cl1\\aodP-trd-0053_D01_2021_06_13-01_56_05_PM.jpg\n",
      "C:\\Users\\USER\\Documents\\IIM I IPBA\\Capstone\\Digitset Cl1\\aodP-trd-0054_D01_2021_06_10-12_09_59_AM.jpg\n",
      "C:\\Users\\USER\\Documents\\IIM I IPBA\\Capstone\\Digitset Cl1\\aodP-trd-0054_D01_2021_06_11-12_32_34_AM.jpg\n",
      "C:\\Users\\USER\\Documents\\IIM I IPBA\\Capstone\\Digitset Cl1\\aodP-trd-0054_D01_2021_06_13-03_15_17_PM.jpg\n",
      "C:\\Users\\USER\\Documents\\IIM I IPBA\\Capstone\\Digitset Cl1\\aodP-trd-0055_D01_2021_06_10-12_12_04_AM.jpg\n",
      "C:\\Users\\USER\\Documents\\IIM I IPBA\\Capstone\\Digitset Cl1\\aodP-trd-0055_D01_2021_06_11-12_34_27_AM.jpg\n",
      "C:\\Users\\USER\\Documents\\IIM I IPBA\\Capstone\\Digitset Cl1\\aodP-trd-0055_D01_2021_06_13-03_16_46_PM.jpg\n",
      "C:\\Users\\USER\\Documents\\IIM I IPBA\\Capstone\\Digitset Cl1\\aodP-trd-0056_D01_2021_06_10-12_14_02_AM.jpg\n",
      "C:\\Users\\USER\\Documents\\IIM I IPBA\\Capstone\\Digitset Cl1\\aodP-trd-0056_D01_2021_06_11-12_36_22_AM.jpg\n",
      "C:\\Users\\USER\\Documents\\IIM I IPBA\\Capstone\\Digitset Cl1\\aodP-trd-0056_D01_2021_06_13-03_18_16_PM.jpg\n",
      "C:\\Users\\USER\\Documents\\IIM I IPBA\\Capstone\\Digitset Cl1\\aodP-trd-0057_D01_2021_06_10-12_16_00_AM.jpg\n",
      "C:\\Users\\USER\\Documents\\IIM I IPBA\\Capstone\\Digitset Cl1\\aodP-trd-0057_D01_2021_06_11-12_38_16_AM.jpg\n",
      "C:\\Users\\USER\\Documents\\IIM I IPBA\\Capstone\\Digitset Cl1\\aodP-trd-0057_D01_2021_06_13-03_19_45_PM.jpg\n",
      "C:\\Users\\USER\\Documents\\IIM I IPBA\\Capstone\\Digitset Cl1\\aodP-trd-0058_D01_2021_06_10-12_17_59_AM.jpg\n",
      "C:\\Users\\USER\\Documents\\IIM I IPBA\\Capstone\\Digitset Cl1\\aodP-trd-0058_D01_2021_06_11-12_40_10_AM.jpg\n",
      "C:\\Users\\USER\\Documents\\IIM I IPBA\\Capstone\\Digitset Cl1\\aodP-trd-0058_D01_2021_06_13-03_21_13_PM.jpg\n",
      "C:\\Users\\USER\\Documents\\IIM I IPBA\\Capstone\\Digitset Cl1\\aodP-trd-0059_D01_2021_06_10-12_19_56_AM.jpg\n",
      "C:\\Users\\USER\\Documents\\IIM I IPBA\\Capstone\\Digitset Cl1\\aodP-trd-0059_D01_2021_06_11-12_42_04_AM.jpg\n",
      "C:\\Users\\USER\\Documents\\IIM I IPBA\\Capstone\\Digitset Cl1\\aodP-trd-0059_D01_2021_06_13-03_22_42_PM.jpg\n",
      "C:\\Users\\USER\\Documents\\IIM I IPBA\\Capstone\\Digitset Cl1\\aodP-trd-0060_D01_2021_06_10-12_21_55_AM.jpg\n",
      "C:\\Users\\USER\\Documents\\IIM I IPBA\\Capstone\\Digitset Cl1\\aodP-trd-0060_D01_2021_06_11-12_44_00_AM.jpg\n",
      "C:\\Users\\USER\\Documents\\IIM I IPBA\\Capstone\\Digitset Cl1\\aodP-trd-0060_D01_2021_06_13-03_24_12_PM.jpg\n",
      "C:\\Users\\USER\\Documents\\IIM I IPBA\\Capstone\\Digitset Cl1\\aodP-trd-0061_D01_2021_06_10-12_23_54_AM.jpg\n",
      "C:\\Users\\USER\\Documents\\IIM I IPBA\\Capstone\\Digitset Cl1\\aodP-trd-0061_D01_2021_06_11-12_45_54_AM.jpg\n",
      "C:\\Users\\USER\\Documents\\IIM I IPBA\\Capstone\\Digitset Cl1\\aodP-trd-0061_D01_2021_06_13-03_25_41_PM.jpg\n",
      "C:\\Users\\USER\\Documents\\IIM I IPBA\\Capstone\\Digitset Cl1\\aodP-trd-0063_D01_2021_06_10-12_27_41_AM.jpg\n",
      "C:\\Users\\USER\\Documents\\IIM I IPBA\\Capstone\\Digitset Cl1\\aodP-trd-0063_D01_2021_06_11-12_49_42_AM.jpg\n",
      "C:\\Users\\USER\\Documents\\IIM I IPBA\\Capstone\\Digitset Cl1\\aodP-trd-0063_D01_2021_06_13-03_28_39_PM.jpg\n",
      "C:\\Users\\USER\\Documents\\IIM I IPBA\\Capstone\\Digitset Cl1\\aodP-trd-0065_D01_2021_06_10-12_31_38_AM.jpg\n",
      "C:\\Users\\USER\\Documents\\IIM I IPBA\\Capstone\\Digitset Cl1\\aodP-trd-0065_D01_2021_06_11-12_53_32_AM.jpg\n",
      "C:\\Users\\USER\\Documents\\IIM I IPBA\\Capstone\\Digitset Cl1\\aodP-trd-0065_D01_2021_06_13-03_31_30_PM.jpg\n",
      "C:\\Users\\USER\\Documents\\IIM I IPBA\\Capstone\\Digitset Cl1\\aodP-trd-0066_D01_2021_06_10-12_33_35_AM.jpg\n",
      "C:\\Users\\USER\\Documents\\IIM I IPBA\\Capstone\\Digitset Cl1\\aodP-trd-0066_D01_2021_06_11-12_55_26_AM.jpg\n",
      "C:\\Users\\USER\\Documents\\IIM I IPBA\\Capstone\\Digitset Cl1\\aodP-trd-0066_D01_2021_06_13-03_32_55_PM.jpg\n",
      "C:\\Users\\USER\\Documents\\IIM I IPBA\\Capstone\\Digitset Cl1\\aodP-trd-0067_D01_2021_06_10-12_35_33_AM.jpg\n",
      "C:\\Users\\USER\\Documents\\IIM I IPBA\\Capstone\\Digitset Cl1\\aodP-trd-0067_D01_2021_06_11-12_57_19_AM.jpg\n",
      "C:\\Users\\USER\\Documents\\IIM I IPBA\\Capstone\\Digitset Cl1\\aodP-trd-0067_D01_2021_06_13-03_34_19_PM.jpg\n",
      "C:\\Users\\USER\\Documents\\IIM I IPBA\\Capstone\\Digitset Cl1\\aodP-trd-0068_D01_2021_06_10-12_37_27_AM.jpg\n",
      "C:\\Users\\USER\\Documents\\IIM I IPBA\\Capstone\\Digitset Cl1\\aodP-trd-0068_D01_2021_06_11-12_59_13_AM.jpg\n",
      "C:\\Users\\USER\\Documents\\IIM I IPBA\\Capstone\\Digitset Cl1\\aodP-trd-0068_D01_2021_06_13-03_35_43_PM.jpg\n",
      "C:\\Users\\USER\\Documents\\IIM I IPBA\\Capstone\\Digitset Cl1\\aodP-trd-0069_D01_2021_06_10-12_39_24_AM.jpg\n",
      "C:\\Users\\USER\\Documents\\IIM I IPBA\\Capstone\\Digitset Cl1\\aodP-trd-0069_D01_2021_06_11-01_01_06_AM.jpg\n",
      "C:\\Users\\USER\\Documents\\IIM I IPBA\\Capstone\\Digitset Cl1\\aodP-trd-0069_D01_2021_06_13-03_37_07_PM.jpg\n",
      "C:\\Users\\USER\\Documents\\IIM I IPBA\\Capstone\\Digitset Cl1\\aodP-trd-0070_D01_2021_06_10-12_41_19_AM.jpg\n",
      "C:\\Users\\USER\\Documents\\IIM I IPBA\\Capstone\\Digitset Cl1\\aodP-trd-0070_D01_2021_06_11-01_03_00_AM.jpg\n",
      "C:\\Users\\USER\\Documents\\IIM I IPBA\\Capstone\\Digitset Cl1\\aodP-trd-0070_D01_2021_06_13-03_38_31_PM.jpg\n",
      "C:\\Users\\USER\\Documents\\IIM I IPBA\\Capstone\\Digitset Cl1\\aodP-trd-0071_D01_2021_06_10-12_43_14_AM.jpg\n",
      "C:\\Users\\USER\\Documents\\IIM I IPBA\\Capstone\\Digitset Cl1\\aodP-trd-0071_D01_2021_06_11-01_04_54_AM.jpg\n",
      "C:\\Users\\USER\\Documents\\IIM I IPBA\\Capstone\\Digitset Cl1\\aodP-trd-0071_D01_2021_06_13-03_39_56_PM.jpg\n",
      "C:\\Users\\USER\\Documents\\IIM I IPBA\\Capstone\\Digitset Cl1\\aodP-trd-0072_D01_2021_06_10-12_45_08_AM.jpg\n",
      "C:\\Users\\USER\\Documents\\IIM I IPBA\\Capstone\\Digitset Cl1\\aodP-trd-0072_D01_2021_06_11-01_06_48_AM.jpg\n",
      "C:\\Users\\USER\\Documents\\IIM I IPBA\\Capstone\\Digitset Cl1\\aodP-trd-0072_D01_2021_06_13-03_41_21_PM.jpg\n",
      "C:\\Users\\USER\\Documents\\IIM I IPBA\\Capstone\\Digitset Cl1\\aodP-trd-0073_D01_2021_06_10-12_47_04_AM.jpg\n",
      "C:\\Users\\USER\\Documents\\IIM I IPBA\\Capstone\\Digitset Cl1\\aodP-trd-0073_D01_2021_06_11-01_08_43_AM.jpg\n",
      "C:\\Users\\USER\\Documents\\IIM I IPBA\\Capstone\\Digitset Cl1\\aodP-trd-0073_D01_2021_06_13-03_42_46_PM.jpg\n",
      "C:\\Users\\USER\\Documents\\IIM I IPBA\\Capstone\\Digitset Cl1\\aodP-trd-0074_D01_2021_06_10-12_49_01_AM.jpg\n",
      "C:\\Users\\USER\\Documents\\IIM I IPBA\\Capstone\\Digitset Cl1\\aodP-trd-0074_D01_2021_06_11-01_10_37_AM.jpg\n",
      "C:\\Users\\USER\\Documents\\IIM I IPBA\\Capstone\\Digitset Cl1\\aodP-trd-0074_D01_2021_06_13-03_44_12_PM.jpg\n",
      "C:\\Users\\USER\\Documents\\IIM I IPBA\\Capstone\\Digitset Cl1\\aodP-trd-0075_D01_2021_06_10-12_50_54_AM.jpg\n",
      "C:\\Users\\USER\\Documents\\IIM I IPBA\\Capstone\\Digitset Cl1\\aodP-trd-0075_D01_2021_06_11-01_12_31_AM.jpg\n",
      "C:\\Users\\USER\\Documents\\IIM I IPBA\\Capstone\\Digitset Cl1\\aodP-trd-0075_D01_2021_06_13-03_45_36_PM.jpg\n",
      "C:\\Users\\USER\\Documents\\IIM I IPBA\\Capstone\\Digitset Cl1\\aodP-trd-0077_D01_2021_06_10-12_54_48_AM.jpg\n",
      "C:\\Users\\USER\\Documents\\IIM I IPBA\\Capstone\\Digitset Cl1\\aodP-trd-0077_D01_2021_06_11-01_16_17_AM.jpg\n",
      "C:\\Users\\USER\\Documents\\IIM I IPBA\\Capstone\\Digitset Cl1\\aodP-trd-0077_D01_2021_06_13-03_48_23_PM.jpg\n",
      "C:\\Users\\USER\\Documents\\IIM I IPBA\\Capstone\\Digitset Cl1\\aodP-trd-0078_D01_2021_06_10-12_56_51_AM.jpg\n",
      "C:\\Users\\USER\\Documents\\IIM I IPBA\\Capstone\\Digitset Cl1\\aodP-trd-0078_D01_2021_06_11-01_18_10_AM.jpg\n",
      "C:\\Users\\USER\\Documents\\IIM I IPBA\\Capstone\\Digitset Cl1\\aodP-trd-0078_D01_2021_06_13-03_49_48_PM.jpg\n",
      "C:\\Users\\USER\\Documents\\IIM I IPBA\\Capstone\\Digitset Cl1\\aodP-trd-0079_D01_2021_06_10-12_58_46_AM.jpg\n",
      "C:\\Users\\USER\\Documents\\IIM I IPBA\\Capstone\\Digitset Cl1\\aodP-trd-0079_D01_2021_06_11-01_20_04_AM.jpg\n",
      "C:\\Users\\USER\\Documents\\IIM I IPBA\\Capstone\\Digitset Cl1\\aodP-trd-0079_D01_2021_06_13-03_51_13_PM.jpg\n",
      "C:\\Users\\USER\\Documents\\IIM I IPBA\\Capstone\\Digitset Cl1\\aodP-trd-0080_D01_2021_06_10-01_00_45_AM.jpg\n",
      "C:\\Users\\USER\\Documents\\IIM I IPBA\\Capstone\\Digitset Cl1\\aodP-trd-0080_D01_2021_06_11-01_21_58_AM.jpg\n",
      "C:\\Users\\USER\\Documents\\IIM I IPBA\\Capstone\\Digitset Cl1\\aodP-trd-0080_D01_2021_06_13-03_52_38_PM.jpg\n",
      "C:\\Users\\USER\\Documents\\IIM I IPBA\\Capstone\\Digitset Cl1\\aodP-trd-0081_D01_2021_06_10-01_02_48_AM.jpg\n",
      "C:\\Users\\USER\\Documents\\IIM I IPBA\\Capstone\\Digitset Cl1\\aodP-trd-0081_D01_2021_06_11-01_23_52_AM.jpg\n",
      "C:\\Users\\USER\\Documents\\IIM I IPBA\\Capstone\\Digitset Cl1\\aodP-trd-0081_D01_2021_06_13-03_54_02_PM.jpg\n",
      "C:\\Users\\USER\\Documents\\IIM I IPBA\\Capstone\\Digitset Cl1\\aodP-trd-0083_D01_2021_06_10-01_06_38_AM.jpg\n",
      "C:\\Users\\USER\\Documents\\IIM I IPBA\\Capstone\\Digitset Cl1\\aodP-trd-0083_D01_2021_06_11-01_27_39_AM.jpg\n",
      "C:\\Users\\USER\\Documents\\IIM I IPBA\\Capstone\\Digitset Cl1\\aodP-trd-0083_D01_2021_06_13-03_56_51_PM.jpg\n",
      "C:\\Users\\USER\\Documents\\IIM I IPBA\\Capstone\\Digitset Cl1\\aodP-trd-0084_D01_2021_06_10-01_08_35_AM.jpg\n",
      "C:\\Users\\USER\\Documents\\IIM I IPBA\\Capstone\\Digitset Cl1\\aodP-trd-0084_D01_2021_06_11-01_29_31_AM.jpg\n",
      "C:\\Users\\USER\\Documents\\IIM I IPBA\\Capstone\\Digitset Cl1\\aodP-trd-0084_D01_2021_06_13-03_58_15_PM.jpg\n",
      "C:\\Users\\USER\\Documents\\IIM I IPBA\\Capstone\\Digitset Cl1\\aodP-trd-0088_D01_2021_06_10-01_16_18_AM.jpg\n",
      "C:\\Users\\USER\\Documents\\IIM I IPBA\\Capstone\\Digitset Cl1\\aodP-trd-0088_D01_2021_06_11-01_37_02_AM.jpg\n",
      "C:\\Users\\USER\\Documents\\IIM I IPBA\\Capstone\\Digitset Cl1\\aodP-trd-0088_D01_2021_06_13-04_03_50_PM.jpg\n"
     ]
    }
   ],
   "source": [
    "for i in range(len(ls_file)):\n",
    "    print(ls_file[i])\n",
    "    if (ls_file[i]!= 'C:\\\\sers\\\\USER\\\\Documents\\\\IIM I IPBA\\\\Capstone\\\\Digitset Cl1\\\\.DS_Store'):\n",
    "        images.append(get_image(ls_file[i]))\n",
    "        labels.append(i)"
   ]
  },
  {
   "cell_type": "code",
   "execution_count": 8,
   "metadata": {},
   "outputs": [
    {
     "data": {
      "text/plain": [
       "(160, 75, 50)"
      ]
     },
     "execution_count": 8,
     "metadata": {},
     "output_type": "execute_result"
    }
   ],
   "source": [
    "# arranging the images as a numpy array\n",
    "x_train=np.array(images)\n",
    "x_train.shape\n",
    "# there are 380 images which are 100 pixels long by 90 pixels wide"
   ]
  },
  {
   "cell_type": "code",
   "execution_count": 9,
   "metadata": {},
   "outputs": [
    {
     "data": {
      "text/plain": [
       "<matplotlib.image.AxesImage at 0x1c57a5f4520>"
      ]
     },
     "execution_count": 9,
     "metadata": {},
     "output_type": "execute_result"
    },
    {
     "data": {
      "image/png": "[encoded data removed]",
      "text/plain": [
       "<Figure size 432x288 with 1 Axes>"
      ]
     },
     "metadata": {
      "needs_background": "light"
     },
     "output_type": "display_data"
    }
   ],
   "source": [
    "# lets take a look at some of the images\n",
    "plt.imshow(x_train[75,:],cmap=\"gray\")"
   ]
  },
  {
   "cell_type": "code",
   "execution_count": 10,
   "metadata": {},
   "outputs": [
    {
     "name": "stdout",
     "output_type": "stream",
     "text": [
      "(160, 3750)\n"
     ]
    }
   ],
   "source": [
    "# Flattening the image\n",
    "# Each row will represent one image\n",
    "pixels = x_train.flatten().reshape(160,3750)\n",
    "print(pixels.shape)"
   ]
  },
  {
   "cell_type": "code",
   "execution_count": 11,
   "metadata": {},
   "outputs": [],
   "source": [
    "# Model Building\n",
    "import pandas as pd\n",
    "from sklearn.cluster import KMeans"
   ]
  },
  {
   "cell_type": "code",
   "execution_count": 12,
   "metadata": {},
   "outputs": [],
   "source": [
    "# Scaling of data\n",
    "from sklearn.preprocessing import MinMaxScaler"
   ]
  },
  {
   "cell_type": "code",
   "execution_count": 13,
   "metadata": {},
   "outputs": [],
   "source": [
    "Scaler = MinMaxScaler()\n",
    "train = Scaler.fit_transform(pixels)\n",
    "# we get a matrix of data points which are scaled"
   ]
  },
  {
   "cell_type": "code",
   "execution_count": 36,
   "metadata": {},
   "outputs": [
    {
     "data": {
      "text/plain": [
       "KMeans(n_clusters=7)"
      ]
     },
     "execution_count": 36,
     "metadata": {},
     "output_type": "execute_result"
    }
   ],
   "source": [
    "# using K means to fit a model\n",
    "kmeans = KMeans(init='k-means++', n_clusters=7, n_init=10)\n",
    "np.random.seed(100)\n",
    "kmeans.fit(train)"
   ]
  },
  {
   "cell_type": "code",
   "execution_count": 37,
   "metadata": {},
   "outputs": [
    {
     "data": {
      "text/plain": [
       "array([6, 6, 6, 6, 3, 3, 6, 6, 6, 6, 2, 2, 5, 5, 5, 5, 1, 1, 1, 5, 5, 5,\n",
       "       1, 1, 1, 5, 5, 5, 6, 6, 6, 3, 3, 3, 3, 3, 6, 6, 6, 2, 2, 2, 2, 2,\n",
       "       2, 2, 1, 1, 1, 1, 1, 1, 1, 1, 1, 5, 5, 5, 5, 5, 5, 5, 5, 5, 1, 1,\n",
       "       1, 1, 1, 1, 1, 1, 1, 1, 1, 1, 1, 1, 1, 1, 1, 1, 1, 1, 1, 2, 2, 2,\n",
       "       2, 4, 4, 2, 4, 4, 2, 4, 4, 2, 4, 4, 2, 2, 2, 4, 4, 4, 4, 4, 4, 2,\n",
       "       2, 2, 2, 2, 2, 2, 2, 2, 2, 4, 4, 2, 4, 4, 2, 4, 4, 4, 4, 4, 4, 4,\n",
       "       4, 2, 4, 4, 0, 0, 0, 0, 0, 0, 0, 0, 0, 0, 0, 0, 6, 6, 6, 6, 6, 6,\n",
       "       6, 6, 6, 3, 1, 1])"
      ]
     },
     "execution_count": 37,
     "metadata": {},
     "output_type": "execute_result"
    }
   ],
   "source": [
    "kmeans.labels_"
   ]
  },
  {
   "cell_type": "code",
   "execution_count": 38,
   "metadata": {},
   "outputs": [],
   "source": [
    "# create dataframe for storing cluster labels and image ids\n",
    "image_clusters=pd.DataFrame({'Cluster':kmeans.labels_,\"Id\":range(0,160)})"
   ]
  },
  {
   "cell_type": "code",
   "execution_count": 39,
   "metadata": {},
   "outputs": [
    {
     "data": {
      "text/plain": [
       "<bound method NDFrame.head of      Cluster   Id\n",
       "0          6    0\n",
       "1          6    1\n",
       "2          6    2\n",
       "3          6    3\n",
       "4          3    4\n",
       "..       ...  ...\n",
       "155        6  155\n",
       "156        6  156\n",
       "157        3  157\n",
       "158        1  158\n",
       "159        1  159\n",
       "\n",
       "[160 rows x 2 columns]>"
      ]
     },
     "execution_count": 39,
     "metadata": {},
     "output_type": "execute_result"
    }
   ],
   "source": [
    "image_clusters.head"
   ]
  },
  {
   "cell_type": "code",
   "execution_count": 54,
   "metadata": {},
   "outputs": [],
   "source": [
    "# subset data and select images that only belong to subset cluster 0\n",
    "clust_1=image_clusters[image_clusters.Cluster==7]"
   ]
  },
  {
   "cell_type": "code",
   "execution_count": 56,
   "metadata": {},
   "outputs": [],
   "source": [
    "# plot all images that have a predicted cluster of 0\n",
    "for i in clust_1.Id:\n",
    "    plt.imshow(x_train[i,:],cmap=\"gray\")\n",
    "    plt.show()\n",
    "# even with unsupervised learning, we were able to classify among the images"
   ]
  },
  {
   "cell_type": "code",
   "execution_count": null,
   "metadata": {},
   "outputs": [],
   "source": []
  },
  {
   "cell_type": "code",
   "execution_count": null,
   "metadata": {},
   "outputs": [],
   "source": []
  }
 ],
 "metadata": {
  "kernelspec": {
   "display_name": "Python 3",
   "language": "python",
   "name": "python3"
  },
  "language_info": {
   "codemirror_mode": {
    "name": "ipython",
    "version": 3
   },
   "file_extension": ".py",
   "mimetype": "text/x-python",
   "name": "python",
   "nbconvert_exporter": "python",
   "pygments_lexer": "ipython3",
   "version": "3.8.3"
  }
 },
 "nbformat": 4,
 "nbformat_minor": 4
}
